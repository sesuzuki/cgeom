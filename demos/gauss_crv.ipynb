{
 "cells": [
  {
   "cell_type": "code",
   "execution_count": 4,
   "metadata": {},
   "outputs": [],
   "source": [
    "import igl\n",
    "import scipy as sp\n",
    "import numpy as np\n",
    "from meshplot import plot, subplot, interact\n",
    "\n",
    "import os\n",
    "#root_folder = os.path.join(os.getcwd(), \"tutorial\")"
   ]
  },
  {
   "cell_type": "code",
   "execution_count": 45,
   "metadata": {},
   "outputs": [
    {
     "name": "stdout",
     "output_type": "stream",
     "text": [
      "[2 1]\n"
     ]
    },
    {
     "data": {
      "application/vnd.jupyter.widget-view+json": {
       "model_id": "6f93e6f3d6524aaf97eea7342c3f733c",
       "version_major": 2,
       "version_minor": 0
      },
      "text/plain": [
       "HBox(children=(Output(), Output()))"
      ]
     },
     "metadata": {},
     "output_type": "display_data"
    }
   ],
   "source": [
    "model = \"/Users/seiichi/Desktop/test_igl.obj\"\n",
    "#model = \"/Users/seiichi/Desktop/flat_mesh.obj\"\n",
    "\n",
    "v, f = igl.read_triangle_mesh(model)\n",
    "\n",
    "# Fix two points on the boundary\n",
    "b = np.array([2, 1])\n",
    "print(b)\n",
    "\n",
    "bnd = igl.boundary_loop(f)\n",
    "b[0] = bnd[0]\n",
    "b[1] = bnd[2] #int(bnd.size / 2)]\n",
    "\n",
    "\n",
    "bc = np.array([[0.0, 0.0], [1.0, 0.0]])\n",
    "\n",
    "# LSCM parametrization\n",
    "_, uv = igl.lscm(v, f, b, bc)\n",
    "\n",
    "p = subplot(v, f, uv=uv, shading={\"wireframe\": False, \"flat\": False}, s=[1, 2, 0])\n",
    "subplot(uv, f, uv=uv, shading={\"wireframe\": False, \"flat\": False}, s=[1, 2, 1], data=p)\n"
   ]
  }
 ],
 "metadata": {
  "kernelspec": {
   "display_name": "erods",
   "language": "python",
   "name": "python3"
  },
  "language_info": {
   "codemirror_mode": {
    "name": "ipython",
    "version": 3
   },
   "file_extension": ".py",
   "mimetype": "text/x-python",
   "name": "python",
   "nbconvert_exporter": "python",
   "pygments_lexer": "ipython3",
   "version": "3.9.18"
  }
 },
 "nbformat": 4,
 "nbformat_minor": 2
}
